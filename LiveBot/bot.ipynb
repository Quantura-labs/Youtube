{
 "cells": [
  {
   "cell_type": "code",
   "execution_count": 1,
   "metadata": {},
   "outputs": [],
   "source": [
    "# Instalation des libs\n",
    "# !pip install pandas sqlalchemy binance-python nest_asyncio TA-Lib"
   ]
  },
  {
   "cell_type": "code",
   "execution_count": 2,
   "metadata": {},
   "outputs": [],
   "source": [
    "import pandas as pd\n",
    "from sqlalchemy import create_engine\n",
    "from binance import ThreadedWebsocketManager\n",
    "from binance.client import Client\n",
    "import json\n",
    "from functools import partial\n",
    "import nest_asyncio\n",
    "nest_asyncio.apply()\n",
    "from func import *"
   ]
  },
  {
   "cell_type": "markdown",
   "metadata": {},
   "source": [
    "---"
   ]
  },
  {
   "cell_type": "code",
   "execution_count": 3,
   "metadata": {},
   "outputs": [],
   "source": [
    "# Récupération des Cle API dans le fichier config json\n",
    "with open(\"config.json\") as config_file:\n",
    "    config = json.load(config_file)\n",
    "    api_key = config[\"API_KEY\"]\n",
    "    api_secret = config[\"API_SECRET\"]\n",
    "    \n",
    "# Init du client python-binance\n",
    "client = Client(api_key, api_secret)"
   ]
  },
  {
   "cell_type": "code",
   "execution_count": 4,
   "metadata": {},
   "outputs": [],
   "source": [
    "# Symbol & interval\n",
    "SYMBOL = 'ETHUSDT'\n",
    "INTERVAL = '1m'\n",
    "\n",
    "# Connection à la bdd\n",
    "engine = create_engine(f'sqlite:///{SYMBOL}.db')"
   ]
  },
  {
   "cell_type": "code",
   "execution_count": 6,
   "metadata": {},
   "outputs": [],
   "source": [
    "def format_message_to_dataframe(msg):\n",
    "    # Créer un dictionnaire avec les données extraites\n",
    "    data = {'open': [msg['k']['o']],\n",
    "            'high': [msg['k']['h']],\n",
    "            'low': [msg['k']['l']],\n",
    "            'close': [msg['k']['c']],\n",
    "            'volume': [msg['k']['v']],\n",
    "            'close_time': [msg['k']['T']]}\n",
    "\n",
    "    # Créer un dataframe à partir du dictionnaire\n",
    "    df = pd.DataFrame(data)\n",
    "    \n",
    "    # Convertir en datetime et définir close_time comme index\n",
    "    df['close_time'] = pd.to_datetime(df['close_time'], unit='ms')\n",
    "    df.set_index('close_time', inplace=True)\n",
    "    \n",
    "    # Convertir les données en float\n",
    "    df = df.astype(float)\n",
    "    \n",
    "    return df\n",
    "\n",
    "def process_candle_data(msg, symbol):\n",
    "    kline = msg['k']  # Extraire les données du kline\n",
    "    is_closed = kline['x']  # Vérifier si la bougie est fermée\n",
    "    \n",
    "    if is_closed:\n",
    "        print('# NEW CANDLE')\n",
    "        \n",
    "        # Formater les données\n",
    "        df_ohlcv = format_message_to_dataframe(msg)\n",
    "        print(df_ohlcv.head(1))\n",
    "        \n",
    "        # Enregistrer les données dans la base #DataWareHouse\n",
    "        df_ohlcv.to_sql(symbol, con=engine, if_exists='append', index=True)\n",
    "        \n",
    "        # Traiter les données\n",
    "        process_data()\n",
    "\n",
    "def start_candlestick_socket(symbol, interval):\n",
    "    print('### DÉBUT ÉCOUTE WEBSOCKET')\n",
    "    twm = ThreadedWebsocketManager()\n",
    "    twm.start()\n",
    "\n",
    "    # Utiliser functools.partial pour passer le symbole en argument\n",
    "    twm.start_kline_socket(callback=partial(process_candle_data, symbol=symbol), symbol=symbol, interval=interval)\n",
    "\n",
    "    # Garder le WebSocket actif\n",
    "    twm.join()"
   ]
  },
  {
   "cell_type": "code",
   "execution_count": 7,
   "metadata": {},
   "outputs": [],
   "source": [
    "def process_data():\n",
    "    ### Récupérer les données depuis la base\n",
    "    df = pd.read_sql(SYMBOL, con=engine)\n",
    "    \n",
    "    # Vérifier qu'il y a assez de données pour traiter\n",
    "    rolling_window = 20\n",
    "    if len(df) < rolling_window:\n",
    "        print('> WARMUP')\n",
    "        return\n",
    "    \n",
    "    print('# TRAITEMENT DES DATA')\n",
    "    \n",
    "    ### Strategie Processing ###\n",
    "    df = add_technical_indicator(df)\n",
    "    df = add_signals(df)\n",
    "    \n",
    "    ### Risk Management ###\n",
    "    if (df['signal'].iloc[-1] == 1) and (has_open_orders(client, SYMBOL) == False):  # Si signal et aucune position en cours\n",
    "        # Générer les paramètres du trade\n",
    "        entry_price = df['close'].iloc[-1]\n",
    "        SL, TP = generate_TP_SL(entry_price, SL_pct=0.01, risk_reward_ratio=2)\n",
    "        \n",
    "    ### Order Management ###\n",
    "        # Passer un ordre au marché\n",
    "        qty_bought = place_market_order(client, SYMBOL, side='BUY', quantity=1)\n",
    "        # Placer un ordre OCO (TP+SL)\n",
    "        place_oco_order(client, SYMBOL, side='SELL', quantity=qty_bought, TP=TP, SL=SL, limit_pct=0.005)"
   ]
  },
  {
   "cell_type": "markdown",
   "metadata": {},
   "source": [
    "---"
   ]
  },
  {
   "cell_type": "code",
   "execution_count": null,
   "metadata": {},
   "outputs": [],
   "source": [
    "# Start the WebSocket\n",
    "start_candlestick_socket(SYMBOL, INTERVAL)"
   ]
  }
 ],
 "metadata": {
  "kernelspec": {
   "display_name": "base",
   "language": "python",
   "name": "python3"
  },
  "language_info": {
   "codemirror_mode": {
    "name": "ipython",
    "version": 3
   },
   "file_extension": ".py",
   "mimetype": "text/x-python",
   "name": "python",
   "nbconvert_exporter": "python",
   "pygments_lexer": "ipython3",
   "version": "3.11.8"
  }
 },
 "nbformat": 4,
 "nbformat_minor": 2
}
